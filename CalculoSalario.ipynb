{
  "nbformat": 4,
  "nbformat_minor": 0,
  "metadata": {
    "colab": {
      "name": "CalculoSalario.ipynb",
      "provenance": [],
      "collapsed_sections": [],
      "authorship_tag": "ABX9TyPpp54Ey8ugspB6Uw6yGQk5",
      "include_colab_link": true
    },
    "kernelspec": {
      "name": "python3",
      "display_name": "Python 3"
    },
    "language_info": {
      "name": "python"
    }
  },
  "cells": [
    {
      "cell_type": "markdown",
      "metadata": {
        "id": "view-in-github",
        "colab_type": "text"
      },
      "source": [
        "<a href=\"https://colab.research.google.com/github/LeonardoCherubino/CalculoSalario/blob/main/CalculoSalario.ipynb\" target=\"_parent\"><img src=\"https://colab.research.google.com/assets/colab-badge.svg\" alt=\"Open In Colab\"/></a>"
      ]
    },
    {
      "cell_type": "code",
      "execution_count": null,
      "metadata": {
        "id": "-u6UgmW1ntwc"
      },
      "outputs": [],
      "source": [
        ""
      ]
    },
    {
      "cell_type": "markdown",
      "source": [
        " Faça um Programa que pergunte quanto você ganha por hora e o número de horas trabalhadas no mês. Calcule e mostre o total do seu salário no referido mês.\n",
        " "
      ],
      "metadata": {
        "id": "umV7QNgLnuh_"
      }
    },
    {
      "cell_type": "code",
      "source": [
        ""
      ],
      "metadata": {
        "id": "cboppsmUnxqX"
      },
      "execution_count": null,
      "outputs": []
    },
    {
      "cell_type": "code",
      "source": [
        "ValorPorHora = float(input('Entre com o valor que você recebe por hora. '))\n",
        "HorasTrabalhadas = float(input('Entre com o número de horas trabalhadas. '))\n",
        "ValorReceber = ValorPorHora * HorasTrabalhadas\n",
        "print('Você tem {} por recerber'.format(ValorReceber))"
      ],
      "metadata": {
        "colab": {
          "base_uri": "https://localhost:8080/"
        },
        "id": "KKMMPYSJnxrO",
        "outputId": "06bc9f94-88cc-464e-a314-0173e47c0795"
      },
      "execution_count": 3,
      "outputs": [
        {
          "output_type": "stream",
          "name": "stdout",
          "text": [
            "Entre com o valor que você recebe por hora. 10\n",
            "Entre com o número de horas trabalhadas. 400\n",
            "Você tem 4000.0 por recerber\n"
          ]
        }
      ]
    }
  ]
}